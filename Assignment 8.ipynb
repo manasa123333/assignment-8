{
 "cells": [
  {
   "cell_type": "markdown",
   "id": "5327c4f9-91d8-4f6d-b1ab-019a54291fb7",
   "metadata": {},
   "source": [
    "Q1. You are writing code for a company. The requirement of the company is that you create a python  function that will check whether the password entered by the user is correct or not. The function should  take the password as input and return the string “Valid Password” if the entered password follows the  below-given password guidelines else it should return “Invalid Password”.                                       \n",
    "Note: 1. The Password should contain at least two uppercase letters and at least two lowercase letters. 2. The Password should contain at least a number and three special characters. \n",
    "3. The length of the password should be 10 characters long\n"
   ]
  },
  {
   "cell_type": "code",
   "execution_count": 3,
   "id": "48b00dad-177c-4ffc-baf1-e26acdcbd97d",
   "metadata": {},
   "outputs": [
    {
     "name": "stdin",
     "output_type": "stream",
     "text": [
      "Enter a password prAGR@t!$0\n"
     ]
    },
    {
     "name": "stdout",
     "output_type": "stream",
     "text": [
      "Valid password\n"
     ]
    }
   ],
   "source": [
    "l,u,s,d = 0,0,0,0\n",
    "small_alphabets = \"abcdefghijklmnopqrstuvwxyz\"\n",
    "capital_alphabets = \"ABCDEFGHIJKLMNOPQRSTUVWXYZ\"\n",
    "special_charecters = \"!@#$%^&*_?/\"\n",
    "numeric = \"0123456789\"\n",
    "password = input(\"Enter a password\")\n",
    "if len(password)>= 10:\n",
    "    \n",
    "    for i in password:\n",
    "        \n",
    "        if i in small_alphabets:\n",
    "            l = l + 1\n",
    "        \n",
    "        if i in capital_alphabets:\n",
    "            u = u + 1\n",
    "            \n",
    "        if i in special_charecters:\n",
    "            s = s + 1\n",
    "            \n",
    "        if i in numeric:\n",
    "            d = d+ 1\n",
    "            \n",
    "        \n",
    "if (l >=2 and u >=2 and d>=1 and s >= 3 and (l+u+s+d) == len(password)):\n",
    "    print(\"Valid password\")\n",
    "else:\n",
    "    print(\"Invalid password\")\n",
    "            \n",
    "        "
   ]
  },
  {
   "cell_type": "markdown",
   "id": "b48efc2e-5839-458a-83e9-74c89ff056a2",
   "metadata": {},
   "source": [
    "Q2. Solve the below-given questions using at least one of the following:  \n",
    "1. Lambda functioN \n",
    "2. Filter functioN \n",
    "3. Zap functioN \n",
    "4. List ComprehensioN \n",
    "B Check if the string starts with a particular letter \n",
    "B Check if the string is numeric \n",
    "B Sort a list of tuples having fruit names and their quantity. [(\"mango\",99),(\"orange\",80), (\"grapes\", 1000)- B Find the squares of numbers from 1 to 10 \n",
    "B Find the cube root of numbers from 1 to 10\n",
    "B Check if a given number is even \n",
    "B Filter odd numbers from the given list. \n",
    " [1,2,3,4,5,6,7,8,9,10- \n",
    "B Sort a list of integers into positive and negative integers lists. \n",
    " [1,2,3,4,5,6,-1,-2,-3,-4,-5,0]\n"
   ]
  },
  {
   "cell_type": "code",
   "execution_count": 4,
   "id": "5a5adbb4-552a-4b98-9ebf-4488d63409a8",
   "metadata": {},
   "outputs": [
    {
     "data": {
      "text/plain": [
       "'yes'"
      ]
     },
     "execution_count": 4,
     "metadata": {},
     "output_type": "execute_result"
    }
   ],
   "source": [
    "#Check if string starts with particular letter\n",
    "a = lambda i :\"yes\" if  i.startswith('s') else \"no\"\n",
    "a('spring')"
   ]
  },
  {
   "cell_type": "code",
   "execution_count": 1,
   "id": "c80e8caf-91ca-4204-84d1-52c4e75b82b6",
   "metadata": {},
   "outputs": [
    {
     "data": {
      "text/plain": [
       "'Yes'"
      ]
     },
     "execution_count": 1,
     "metadata": {},
     "output_type": "execute_result"
    }
   ],
   "source": [
    "#Check if string is numeric\n",
    "b = lambda i : \"Yes\" if i.isnumeric() else \"no\"\n",
    "b('234')"
   ]
  },
  {
   "cell_type": "code",
   "execution_count": 6,
   "id": "8ccd0217-ec7b-4865-8ed1-b19cc39f92a0",
   "metadata": {},
   "outputs": [],
   "source": [
    "#Sort a list of tuples having fruit names and their quantity\n",
    "t =  [(\"mango\",99),(\"orange\",80), (\"grapes\", 1000)]\n",
    "\n"
   ]
  },
  {
   "cell_type": "code",
   "execution_count": 10,
   "id": "aa2b3a10-ca75-4e3e-af06-6b1d17e107f3",
   "metadata": {},
   "outputs": [
    {
     "data": {
      "text/plain": [
       "[('orange', 80), ('mango', 99), ('grapes', 1000)]"
      ]
     },
     "execution_count": 10,
     "metadata": {},
     "output_type": "execute_result"
    }
   ],
   "source": [
    "c = lambda i : i.sort(reverse = True)\n",
    "c(t)\n",
    "t"
   ]
  },
  {
   "cell_type": "code",
   "execution_count": 2,
   "id": "ccc91a16-de9a-4ccb-b77e-2e5c920c5066",
   "metadata": {},
   "outputs": [
    {
     "data": {
      "text/plain": [
       "[1, 4, 9, 16, 25, 36, 49, 64, 81, 100]"
      ]
     },
     "execution_count": 2,
     "metadata": {},
     "output_type": "execute_result"
    }
   ],
   "source": [
    "#find squares of numbers from 1 to 10\n",
    "list(map(lambda x : x**2,range(1,11)))\n"
   ]
  },
  {
   "cell_type": "code",
   "execution_count": 3,
   "id": "25c7b497-2d58-48df-910b-42ecfe8e5e5b",
   "metadata": {},
   "outputs": [
    {
     "data": {
      "text/plain": [
       "[1.0,\n",
       " 1.2599210498948732,\n",
       " 1.4422495703074083,\n",
       " 1.5874010519681994,\n",
       " 1.7099759466766968,\n",
       " 1.8171205928321397,\n",
       " 1.912931182772389,\n",
       " 2.0,\n",
       " 2.080083823051904,\n",
       " 2.154434690031884]"
      ]
     },
     "execution_count": 3,
     "metadata": {},
     "output_type": "execute_result"
    }
   ],
   "source": [
    "#Find the cube root of numbers from 1 to 10\n",
    "import math\n",
    "list(map(lambda x : math.pow(x,1/3),range(1,11)))"
   ]
  },
  {
   "cell_type": "code",
   "execution_count": 6,
   "id": "734f30fd-6392-44f0-acfb-e977dbf6bd0c",
   "metadata": {},
   "outputs": [
    {
     "name": "stdin",
     "output_type": "stream",
     "text": [
      "Enter a number: 56\n"
     ]
    },
    {
     "data": {
      "text/plain": [
       "'yes'"
      ]
     },
     "execution_count": 6,
     "metadata": {},
     "output_type": "execute_result"
    }
   ],
   "source": [
    "#check if given number is even\n",
    "n = int(input(\"Enter a number:\"))\n",
    "e = lambda n: \"yes\" if n%2 == 0 else \"no\"\n",
    "e(n)"
   ]
  },
  {
   "cell_type": "code",
   "execution_count": 8,
   "id": "411e3d5f-ca99-4cd3-995a-c07b2d85e828",
   "metadata": {},
   "outputs": [
    {
     "data": {
      "text/plain": [
       "[1, 3, 5, 7, 9]"
      ]
     },
     "execution_count": 8,
     "metadata": {},
     "output_type": "execute_result"
    }
   ],
   "source": [
    "#filter odd numbers from given list\n",
    "l = [1,2,3,4,5,6,7,8,9,10]\n",
    "list(filter(lambda y:y%2 != 0,l))"
   ]
  },
  {
   "cell_type": "code",
   "execution_count": 11,
   "id": "396edfef-5788-4051-91a4-5a4b6a198fb7",
   "metadata": {},
   "outputs": [
    {
     "name": "stdout",
     "output_type": "stream",
     "text": [
      "[1, 2, 3, 4, 5, 6, 0]\n",
      "[-1, -2, -3, -4, -5]\n"
     ]
    }
   ],
   "source": [
    "l = [1,2,3,4,5,6,-1,-2,-3,-4,-5,0]\n",
    "positive = list(filter(lambda i : i >=0,l))\n",
    "print(positive)\n",
    "negative = list(filter(lambda i : i < 0,l))\n",
    "print(negative)"
   ]
  },
  {
   "cell_type": "code",
   "execution_count": null,
   "id": "87eb0001-3122-4792-868b-6fa1150e1941",
   "metadata": {},
   "outputs": [],
   "source": []
  }
 ],
 "metadata": {
  "kernelspec": {
   "display_name": "Python 3 (ipykernel)",
   "language": "python",
   "name": "python3"
  },
  "language_info": {
   "codemirror_mode": {
    "name": "ipython",
    "version": 3
   },
   "file_extension": ".py",
   "mimetype": "text/x-python",
   "name": "python",
   "nbconvert_exporter": "python",
   "pygments_lexer": "ipython3",
   "version": "3.10.8"
  }
 },
 "nbformat": 4,
 "nbformat_minor": 5
}
